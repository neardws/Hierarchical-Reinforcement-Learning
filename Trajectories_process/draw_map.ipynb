{
 "cells": [
  {
   "cell_type": "code",
   "execution_count": null,
   "metadata": {},
   "outputs": [],
   "source": [
    "import csv\n",
    "import matplotlib.pyplot as plt\n",
    "\n",
    "csvFile = open(\"/home/neardws/Hierarchical-Reinforcement-Learning/CSV/vehicle.csv\")\n",
    "f_read = csv.reader(csvFile)\n",
    "row = list(f_read)\n",
    "x = []\n",
    "y = []\n",
    "for elem in row[1:]:\n",
    "    x_location = int(float(elem[3]))\n",
    "    y_location = int(float(elem[4]))\n",
    "    x.append(x_location)\n",
    "    y.append(y_location)\n",
    "csvFile.close()\n",
    "\n",
    "plt.figure(figsize=(10, 10), dpi=100)\n",
    "plt.scatter(x, y)\n",
    "plt.savefig('map.png', dpi=50, bbox_inches='tight')\n",
    "plt.show()"
   ]
  }
 ],
 "metadata": {
  "interpreter": {
   "hash": "afd332a307c8ba637b6c88b1a064d683fd4eb3d39a1497845b426400c9e6614e"
  },
  "kernelspec": {
   "display_name": "Python 3.9.7 64-bit ('HRL': conda)",
   "name": "python3"
  },
  "language_info": {
   "codemirror_mode": {
    "name": "ipython",
    "version": 3
   },
   "file_extension": ".py",
   "mimetype": "text/x-python",
   "name": "python",
   "nbconvert_exporter": "python",
   "pygments_lexer": "ipython3",
   "version": "3.9.7"
  },
  "orig_nbformat": 4
 },
 "nbformat": 4,
 "nbformat_minor": 2
}
